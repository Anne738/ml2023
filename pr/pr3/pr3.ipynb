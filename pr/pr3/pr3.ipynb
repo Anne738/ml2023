{
 "cells": [
  {
   "cell_type": "markdown",
   "metadata": {},
   "source": [
    "# Практична робота №3\n",
    "### Студентки групи МІТ-31 (підгрупа 2)\n",
    "### Булгакової Анни\n",
    "\n",
    "Завдання для практичної роботи з регресії:\n",
    "\n",
    "**Завдання: Прогнозування ціни житла**\n",
    "\n",
    "Ваше завдання - побудувати модель регресії для прогнозування ціни житла на основі реально згенерованих даних.\n",
    "\n",
    "**Крок 1: Генерація даних**\n",
    "\n",
    "1. Згенеруйте 1000 спостережень для ознаки \"Площа житла\" (площа квартири в квадратних метрах) в діапазоні від 50 до 200 квадратних метрів.\n",
    "\n",
    "2. Згенеруйте 1000 спостережень для ознаки \"Кількість спалень\" в діапазоні від 1 до 5 спалень.\n",
    "\n",
    "3. Згенеруйте 1000 спостережень для ознаки \"Відстань до центру міста\" в діапазоні від 1 до 20 км.\n",
    "\n",
    "4. Згенеруйте цільову змінну - ціну житла (в тисячах доларів) на основі ознак \"Площа житла\", \"Кількість спалень\" та \"Відстань до центру міста\". Модель ціни може бути, наприклад, такою: `ціна = 10 * площа + 5 * спальні - 2 * відстань + похибка`, де похибка - це випадковий шум.\n",
    "\n",
    "**Крок 2: Розділення даних**\n",
    "\n",
    "Розділіть ваші дані на навчальний та тестовий набори в співвідношенні 80% - 20%.\n",
    "\n",
    "**Крок 3: Побудова моделі регресії**\n",
    "\n",
    "1. Використовуйте бібліотеку Python (наприклад, Scikit-Learn) для побудови моделі лінійної регресії.\n",
    "\n",
    "2. Навчіть модель на навчальних даних, використовуючи ознаки \"Площа житла\", \"Кількість спалень\" та \"Відстань до центру міста\" для прогнозу ціни житла.\n",
    "\n",
    "**Крок 4: Оцінка моделі**\n",
    "\n",
    "1. Використайте модель для зроблення прогнозів на тестовому наборі.\n",
    "\n",
    "2. Оцініть якість моделі за допомогою метрик, таких як середньоквадратична помилка (MSE) та коефіцієнт детермінації (R^2).\n",
    "\n",
    "**Крок 5: Візуалізація результатів**\n",
    "\n",
    "1. Побудуйте графік, на якому відобразіть реальні ціни житла та прогнозовані моделлю ціни для тестового набору.\n",
    "\n",
    "2. Додайте лінію, яка відображає ідеальні результати (реальні ціни житла) для порівняння.\n",
    "\n",
    "**Крок 6: Висновки**\n",
    "\n",
    "Напишіть короткий звіт, де ви розповідаєте про якість моделі та її здатність прогнозувати ціну житла на основі введених ознак.\n"
   ]
  },
  {
   "cell_type": "code",
   "execution_count": 3,
   "metadata": {},
   "outputs": [],
   "source": [
    "import pandas as pd\n",
    "import numpy as np\n",
    "from sklearn.model_selection import train_test_split\n",
    "from sklearn.linear_model import LinearRegression\n",
    "from sklearn.metrics import mean_squared_error, r2_score\n",
    "import matplotlib.pyplot as plt\n",
    "import warnings\n",
    "warnings.filterwarnings(\"ignore\")"
   ]
  },
  {
   "cell_type": "code",
   "execution_count": 20,
   "metadata": {},
   "outputs": [],
   "source": [
    "np.random.seed(0)\n",
    "n_samples = 1000\n",
    "data={'Housing Area': np.random.randint(50, 201, size=n_samples),\n",
    "      'Bedrooms': np.random.randint(1, 6, size=n_samples),\n",
    "      'City Center': np.random.randint(1, 21, size=n_samples)}\n",
    "\n",
    "noise = np.random.normal(0, 5, n_samples)\n",
    "\n",
    "data['Price_target'] = 10 * data['Housing Area'] + 5 * data['Bedrooms'] - 2 * data['City Center'] + noise\n",
    "\n",
    "df = pd.DataFrame(data)\n",
    "df.to_csv('Data.csv', index=False)"
   ]
  },
  {
   "cell_type": "code",
   "execution_count": 21,
   "metadata": {},
   "outputs": [
    {
     "data": {
      "text/html": [
       "<div>\n",
       "<style scoped>\n",
       "    .dataframe tbody tr th:only-of-type {\n",
       "        vertical-align: middle;\n",
       "    }\n",
       "\n",
       "    .dataframe tbody tr th {\n",
       "        vertical-align: top;\n",
       "    }\n",
       "\n",
       "    .dataframe thead th {\n",
       "        text-align: right;\n",
       "    }\n",
       "</style>\n",
       "<table border=\"1\" class=\"dataframe\">\n",
       "  <thead>\n",
       "    <tr style=\"text-align: right;\">\n",
       "      <th></th>\n",
       "      <th>Housing Area</th>\n",
       "      <th>Bedrooms</th>\n",
       "      <th>City Center</th>\n",
       "      <th>Price_target</th>\n",
       "    </tr>\n",
       "  </thead>\n",
       "  <tbody>\n",
       "    <tr>\n",
       "      <th>0</th>\n",
       "      <td>97</td>\n",
       "      <td>4</td>\n",
       "      <td>9</td>\n",
       "      <td>966.298413</td>\n",
       "    </tr>\n",
       "    <tr>\n",
       "      <th>1</th>\n",
       "      <td>167</td>\n",
       "      <td>4</td>\n",
       "      <td>16</td>\n",
       "      <td>1642.279378</td>\n",
       "    </tr>\n",
       "    <tr>\n",
       "      <th>2</th>\n",
       "      <td>117</td>\n",
       "      <td>4</td>\n",
       "      <td>7</td>\n",
       "      <td>1166.728996</td>\n",
       "    </tr>\n",
       "    <tr>\n",
       "      <th>3</th>\n",
       "      <td>153</td>\n",
       "      <td>1</td>\n",
       "      <td>11</td>\n",
       "      <td>1511.709719</td>\n",
       "    </tr>\n",
       "    <tr>\n",
       "      <th>4</th>\n",
       "      <td>59</td>\n",
       "      <td>1</td>\n",
       "      <td>2</td>\n",
       "      <td>589.587290</td>\n",
       "    </tr>\n",
       "    <tr>\n",
       "      <th>...</th>\n",
       "      <td>...</td>\n",
       "      <td>...</td>\n",
       "      <td>...</td>\n",
       "      <td>...</td>\n",
       "    </tr>\n",
       "    <tr>\n",
       "      <th>995</th>\n",
       "      <td>184</td>\n",
       "      <td>1</td>\n",
       "      <td>8</td>\n",
       "      <td>1825.166767</td>\n",
       "    </tr>\n",
       "    <tr>\n",
       "      <th>996</th>\n",
       "      <td>82</td>\n",
       "      <td>5</td>\n",
       "      <td>5</td>\n",
       "      <td>829.849655</td>\n",
       "    </tr>\n",
       "    <tr>\n",
       "      <th>997</th>\n",
       "      <td>131</td>\n",
       "      <td>5</td>\n",
       "      <td>19</td>\n",
       "      <td>1296.801540</td>\n",
       "    </tr>\n",
       "    <tr>\n",
       "      <th>998</th>\n",
       "      <td>169</td>\n",
       "      <td>5</td>\n",
       "      <td>16</td>\n",
       "      <td>1684.135077</td>\n",
       "    </tr>\n",
       "    <tr>\n",
       "      <th>999</th>\n",
       "      <td>168</td>\n",
       "      <td>2</td>\n",
       "      <td>3</td>\n",
       "      <td>1685.402161</td>\n",
       "    </tr>\n",
       "  </tbody>\n",
       "</table>\n",
       "<p>1000 rows × 4 columns</p>\n",
       "</div>"
      ],
      "text/plain": [
       "     Housing Area  Bedrooms  City Center  Price_target\n",
       "0              97         4            9    966.298413\n",
       "1             167         4           16   1642.279378\n",
       "2             117         4            7   1166.728996\n",
       "3             153         1           11   1511.709719\n",
       "4              59         1            2    589.587290\n",
       "..            ...       ...          ...           ...\n",
       "995           184         1            8   1825.166767\n",
       "996            82         5            5    829.849655\n",
       "997           131         5           19   1296.801540\n",
       "998           169         5           16   1684.135077\n",
       "999           168         2            3   1685.402161\n",
       "\n",
       "[1000 rows x 4 columns]"
      ]
     },
     "execution_count": 21,
     "metadata": {},
     "output_type": "execute_result"
    }
   ],
   "source": [
    "data = pd.read_csv('Data.csv')\n",
    "data"
   ]
  },
  {
   "cell_type": "code",
   "execution_count": 22,
   "metadata": {},
   "outputs": [
    {
     "data": {
      "text/html": [
       "<div>\n",
       "<style scoped>\n",
       "    .dataframe tbody tr th:only-of-type {\n",
       "        vertical-align: middle;\n",
       "    }\n",
       "\n",
       "    .dataframe tbody tr th {\n",
       "        vertical-align: top;\n",
       "    }\n",
       "\n",
       "    .dataframe thead th {\n",
       "        text-align: right;\n",
       "    }\n",
       "</style>\n",
       "<table border=\"1\" class=\"dataframe\">\n",
       "  <thead>\n",
       "    <tr style=\"text-align: right;\">\n",
       "      <th></th>\n",
       "      <th>Housing Area</th>\n",
       "      <th>Bedrooms</th>\n",
       "      <th>City Center</th>\n",
       "      <th>Price_target</th>\n",
       "    </tr>\n",
       "  </thead>\n",
       "  <tbody>\n",
       "    <tr>\n",
       "      <th>count</th>\n",
       "      <td>1000.000000</td>\n",
       "      <td>1000.000000</td>\n",
       "      <td>1000.000000</td>\n",
       "      <td>1000.000000</td>\n",
       "    </tr>\n",
       "    <tr>\n",
       "      <th>mean</th>\n",
       "      <td>127.743000</td>\n",
       "      <td>3.032000</td>\n",
       "      <td>10.613000</td>\n",
       "      <td>1271.310788</td>\n",
       "    </tr>\n",
       "    <tr>\n",
       "      <th>std</th>\n",
       "      <td>43.476536</td>\n",
       "      <td>1.398188</td>\n",
       "      <td>5.553744</td>\n",
       "      <td>435.773532</td>\n",
       "    </tr>\n",
       "    <tr>\n",
       "      <th>min</th>\n",
       "      <td>50.000000</td>\n",
       "      <td>1.000000</td>\n",
       "      <td>1.000000</td>\n",
       "      <td>468.019411</td>\n",
       "    </tr>\n",
       "    <tr>\n",
       "      <th>25%</th>\n",
       "      <td>89.000000</td>\n",
       "      <td>2.000000</td>\n",
       "      <td>6.000000</td>\n",
       "      <td>879.586598</td>\n",
       "    </tr>\n",
       "    <tr>\n",
       "      <th>50%</th>\n",
       "      <td>132.000000</td>\n",
       "      <td>3.000000</td>\n",
       "      <td>11.000000</td>\n",
       "      <td>1309.130018</td>\n",
       "    </tr>\n",
       "    <tr>\n",
       "      <th>75%</th>\n",
       "      <td>165.000000</td>\n",
       "      <td>4.000000</td>\n",
       "      <td>15.000000</td>\n",
       "      <td>1648.817136</td>\n",
       "    </tr>\n",
       "    <tr>\n",
       "      <th>max</th>\n",
       "      <td>200.000000</td>\n",
       "      <td>5.000000</td>\n",
       "      <td>20.000000</td>\n",
       "      <td>2017.813890</td>\n",
       "    </tr>\n",
       "  </tbody>\n",
       "</table>\n",
       "</div>"
      ],
      "text/plain": [
       "       Housing Area     Bedrooms  City Center  Price_target\n",
       "count   1000.000000  1000.000000  1000.000000   1000.000000\n",
       "mean     127.743000     3.032000    10.613000   1271.310788\n",
       "std       43.476536     1.398188     5.553744    435.773532\n",
       "min       50.000000     1.000000     1.000000    468.019411\n",
       "25%       89.000000     2.000000     6.000000    879.586598\n",
       "50%      132.000000     3.000000    11.000000   1309.130018\n",
       "75%      165.000000     4.000000    15.000000   1648.817136\n",
       "max      200.000000     5.000000    20.000000   2017.813890"
      ]
     },
     "execution_count": 22,
     "metadata": {},
     "output_type": "execute_result"
    }
   ],
   "source": [
    "data.describe()"
   ]
  },
  {
   "cell_type": "code",
   "execution_count": 23,
   "metadata": {},
   "outputs": [],
   "source": [
    "X = data.drop('Price_target', axis=1)\n",
    "y = data['Price_target']\n",
    "X_train, X_test, y_train, y_test = train_test_split(X, y, test_size=0.2, random_state=42)"
   ]
  },
  {
   "cell_type": "code",
   "execution_count": 24,
   "metadata": {},
   "outputs": [
    {
     "data": {
      "text/plain": [
       "LinearRegression()"
      ]
     },
     "execution_count": 24,
     "metadata": {},
     "output_type": "execute_result"
    }
   ],
   "source": [
    "model = LinearRegression()\n",
    "model.fit(X_train, y_train)"
   ]
  },
  {
   "cell_type": "code",
   "execution_count": 25,
   "metadata": {},
   "outputs": [],
   "source": [
    "y_pred = model.predict(X_test)"
   ]
  },
  {
   "cell_type": "code",
   "execution_count": 26,
   "metadata": {},
   "outputs": [
    {
     "name": "stdout",
     "output_type": "stream",
     "text": [
      " MSE = 26.66, R^2 = 1.00\n"
     ]
    }
   ],
   "source": [
    "mse = mean_squared_error(y_test, y_pred)\n",
    "r2 = r2_score(y_test, y_pred)\n",
    "print(f\" MSE = {mse:.2f}, R^2 = {r2:.2f}\")"
   ]
  },
  {
   "cell_type": "code",
   "execution_count": 27,
   "metadata": {},
   "outputs": [
    {
     "data": {
      "image/png": "[encoded data removed]",
      "text/plain": [
       "<Figure size 720x432 with 1 Axes>"
      ]
     },
     "metadata": {
      "needs_background": "light"
     },
     "output_type": "display_data"
    }
   ],
   "source": [
    "plt.figure(figsize=(10, 6))\n",
    "plt.title(\"Linear Regression\")\n",
    "plt.xlabel(\"Real Values\")\n",
    "plt.ylabel(\"Predicted Values\")\n",
    "plt.scatter(y_test, y_pred, alpha=0.3)\n",
    "\n",
    "plt.plot([min(y_test), max(y_test)], [min(y_pred), max(y_pred)], c ='red')\n",
    "\n",
    "plt.show()"
   ]
  },
  {
   "cell_type": "markdown",
   "metadata": {},
   "source": [
    "За результатами метрик, можна сказати, що ця модель прогнозує досить добре.\n",
    "MSE (Mean Squared Error) дорівнює 26.66, що вказує на середню квадратичну помилку моделі. Чим нижче значення MSE, тим краща модель, і в даному випадку, вона є досить точною.\n",
    "R^2 (R-squared) дорівнює 1.00. R^2 визначає, наскільки добре модель пояснює варіацію в цільовій змінній. Значення 1.00 вказує на ідеальний підгон, де модель повністю пояснює зміну в ціновій мітці на основі ознак.\n",
    "Значення MSE і R^2 показують, що модель має високу точність та добре пояснює зміну в ціновій мітці.\n",
    "На графіку можна побачити, що модель не перенавчена та досить добре справляється з прогнозуванням\n",
    "Отже, дана модель є якісною та точною з точки зору прогнозування ціни житла на основі наданих ознак."
   ]
  },
  {
   "cell_type": "code",
   "execution_count": null,
   "metadata": {},
   "outputs": [],
   "source": []
  }
 ],
 "metadata": {
  "kernelspec": {
   "display_name": "Python 3 (ipykernel)",
   "language": "python",
   "name": "python3"
  },
  "language_info": {
   "codemirror_mode": {
    "name": "ipython",
    "version": 3
   },
   "file_extension": ".py",
   "mimetype": "text/x-python",
   "name": "python",
   "nbconvert_exporter": "python",
   "pygments_lexer": "ipython3",
   "version": "3.9.7"
  }
 },
 "nbformat": 4,
 "nbformat_minor": 2
}
