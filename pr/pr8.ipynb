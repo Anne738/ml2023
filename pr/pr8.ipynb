{
  "nbformat": 4,
  "nbformat_minor": 0,
  "metadata": {
    "colab": {
      "provenance": [],
      "gpuType": "T4"
    },
    "kernelspec": {
      "name": "python3",
      "display_name": "Python 3"
    },
    "language_info": {
      "name": "python"
    },
    "accelerator": "GPU"
  },
  "cells": [
    {
      "cell_type": "code",
      "source": [
        "import zipfile\n",
        "import os\n",
        "from google.colab import drive\n",
        "import pathlib\n",
        "import numpy as np\n",
        "import matplotlib.pyplot as plt\n",
        "import matplotlib.image as mpimg\n",
        "import tensorflow as tf\n",
        "from tensorflow.keras.preprocessing.image import ImageDataGenerator\n",
        "from tensorflow.keras.models import Sequential\n",
        "from tensorflow.keras.layers import MaxPool2D, Conv2D, Flatten, Dense\n",
        "import pandas as pd"
      ],
      "metadata": {
        "id": "W3JhagQ4eui_"
      },
      "execution_count": null,
      "outputs": []
    },
    {
      "cell_type": "code",
      "source": [
        "drive.mount('/content/gdrive', force_remount=True)"
      ],
      "metadata": {
        "colab": {
          "base_uri": "https://localhost:8080/"
        },
        "id": "nJjtHa8ojgK0",
        "outputId": "5b5aeb57-eb9d-4e8d-9e81-484364fa23e2"
      },
      "execution_count": null,
      "outputs": [
        {
          "output_type": "stream",
          "name": "stdout",
          "text": [
            "Mounted at /content/gdrive\n"
          ]
        }
      ]
    },
    {
      "cell_type": "code",
      "source": [
        "!cp /content/gdrive/'My Drive'/10_food_classes_all_data.zip ."
      ],
      "metadata": {
        "id": "Oj9MwKiXjhkM"
      },
      "execution_count": null,
      "outputs": []
    },
    {
      "cell_type": "code",
      "source": [
        "# Unzip the downloaded file\n",
        "zip_ref = zipfile.ZipFile(\"10_food_classes_all_data.zip\", \"r\")\n",
        "zip_ref.extractall()\n",
        "zip_ref.close()\n",
        "main_dir=\"10_food_classes_all_data/10_food_classes_all_data\""
      ],
      "metadata": {
        "id": "T4cJaVWDkZks"
      },
      "execution_count": null,
      "outputs": []
    },
    {
      "cell_type": "code",
      "source": [
        "food_list = os.listdir(\"10_food_classes_all_data/10_food_classes_all_data/train\")\n",
        "food_list.sort()\n",
        "print(food_list)"
      ],
      "metadata": {
        "colab": {
          "base_uri": "https://localhost:8080/"
        },
        "id": "tlif5WABkpKo",
        "outputId": "ce44bbb7-c312-4520-9cd0-60ed51c73364"
      },
      "execution_count": null,
      "outputs": [
        {
          "output_type": "stream",
          "name": "stdout",
          "text": [
            "['hamburger', 'ice_cream', 'pizza']\n"
          ]
        }
      ]
    },
    {
      "cell_type": "code",
      "source": [
        "!rm -r $'10_food_classes_all_data/10_food_classes_all_data/train/pizza'\n",
        "!rm -r $'10_food_classes_all_data/10_food_classes_all_data/test/pizza'"
      ],
      "metadata": {
        "id": "mIYRxXBKn47E"
      },
      "execution_count": null,
      "outputs": []
    },
    {
      "cell_type": "code",
      "source": [
        "tf.random.set_seed(42)\n",
        "\n",
        "# Preprocess data\n",
        "train_datagen = ImageDataGenerator(rescale=1./255)\n",
        "valid_datagen = ImageDataGenerator(rescale=1./255)\n",
        "\n",
        "train_dir = main_dir+\"/train/\"\n",
        "test_dir = main_dir+\"/test/\"\n",
        "\n",
        "# Import data from directories and turn it into batches\n",
        "train_data = train_datagen.flow_from_directory(train_dir,\n",
        "                                               batch_size=32, # number of images to process at a time\n",
        "                                               target_size=(224, 224), # convert all images to be 224 x 224\n",
        "                                               class_mode=\"binary\", # type of problem we're working on\n",
        "                                               seed=42)\n",
        "\n",
        "valid_data = valid_datagen.flow_from_directory(test_dir,\n",
        "                                               batch_size=32,\n",
        "                                               target_size=(224, 224),\n",
        "                                               class_mode=\"binary\",\n",
        "                                               seed=42)\n"
      ],
      "metadata": {
        "colab": {
          "base_uri": "https://localhost:8080/"
        },
        "id": "q24TYzUHkp5H",
        "outputId": "ba3a5bd5-3cde-4ed8-e8c0-0a64ca4d1eff"
      },
      "execution_count": null,
      "outputs": [
        {
          "output_type": "stream",
          "name": "stdout",
          "text": [
            "Found 1500 images belonging to 2 classes.\n",
            "Found 500 images belonging to 2 classes.\n"
          ]
        }
      ]
    },
    {
      "cell_type": "code",
      "source": [
        "model = tf.keras.models.Sequential([\n",
        "  tf.keras.layers.Conv2D(filters=10,\n",
        "                         kernel_size=3, # can also be (3, 3)\n",
        "                         activation=\"relu\",\n",
        "                         input_shape=(224, 224, 3)), # first layer specifies input shape (height, width, colour channels)\n",
        "  tf.keras.layers.Conv2D(10, 3, activation=\"relu\"),\n",
        "  tf.keras.layers.MaxPool2D(pool_size=2, # pool_size can also be (2, 2)\n",
        "                            padding=\"valid\"), # padding can also be 'same'\n",
        "  tf.keras.layers.Conv2D(10, 3, activation=\"relu\"),\n",
        "  tf.keras.layers.Conv2D(10, 3, activation=\"relu\"), # activation='relu' == tf.keras.layers.Activations(tf.nn.relu)\n",
        "  tf.keras.layers.MaxPool2D(2),\n",
        "  tf.keras.layers.Flatten(),\n",
        "  tf.keras.layers.Dense(1, activation=\"sigmoid\") # binary activation output\n",
        "])\n",
        "\n",
        "'''\n",
        "model = tf.keras.Sequential([\n",
        "  tf.keras.layers.Flatten(input_shape=(224, 224, 3)), # dense layers expect a 1-dimensional vector as input\n",
        "  tf.keras.layers.Dense(100, activation='relu'), # increase number of neurons from 4 to 100 (for each layer)\n",
        "  tf.keras.layers.Dense(100, activation='relu'),\n",
        "  tf.keras.layers.Dense(100, activation='relu'), # add an extra layer\n",
        "  tf.keras.layers.Dense(1, activation='sigmoid')\n",
        "])'''\n",
        "\n",
        "\n",
        "# Compile the model\n",
        "model.compile(loss=\"binary_crossentropy\",\n",
        "              optimizer=tf.keras.optimizers.Adam(),\n",
        "              metrics=[\"accuracy\"])\n",
        "\n",
        "# Fit the model\n",
        "history_1 = model.fit(train_data,\n",
        "                        epochs=10,\n",
        "                        steps_per_epoch=len(train_data),\n",
        "                        validation_data=valid_data,\n",
        "                        validation_steps=len(valid_data))"
      ],
      "metadata": {
        "colab": {
          "base_uri": "https://localhost:8080/"
        },
        "id": "JbFMXf14shvM",
        "outputId": "038fd88d-fba4-47f1-8e6d-aa97af6fac09"
      },
      "execution_count": null,
      "outputs": [
        {
          "output_type": "stream",
          "name": "stdout",
          "text": [
            "Epoch 1/10\n",
            "47/47 [==============================] - 9s 126ms/step - loss: 0.5516 - accuracy: 0.7120 - val_loss: 0.5442 - val_accuracy: 0.7400\n",
            "Epoch 2/10\n",
            "47/47 [==============================] - 8s 166ms/step - loss: 0.5127 - accuracy: 0.7580 - val_loss: 0.6027 - val_accuracy: 0.6860\n",
            "Epoch 3/10\n",
            "47/47 [==============================] - 5s 115ms/step - loss: 0.4968 - accuracy: 0.7607 - val_loss: 0.5299 - val_accuracy: 0.7340\n",
            "Epoch 4/10\n",
            "47/47 [==============================] - 6s 118ms/step - loss: 0.4686 - accuracy: 0.7827 - val_loss: 0.5285 - val_accuracy: 0.7380\n",
            "Epoch 5/10\n",
            "47/47 [==============================] - 6s 117ms/step - loss: 0.4381 - accuracy: 0.7973 - val_loss: 0.5235 - val_accuracy: 0.7540\n",
            "Epoch 6/10\n",
            "47/47 [==============================] - 6s 136ms/step - loss: 0.3912 - accuracy: 0.8373 - val_loss: 0.5381 - val_accuracy: 0.7320\n",
            "Epoch 7/10\n",
            "47/47 [==============================] - 7s 154ms/step - loss: 0.3512 - accuracy: 0.8507 - val_loss: 0.5387 - val_accuracy: 0.7460\n",
            "Epoch 8/10\n",
            "47/47 [==============================] - 5s 116ms/step - loss: 0.2798 - accuracy: 0.8953 - val_loss: 0.5985 - val_accuracy: 0.7260\n",
            "Epoch 9/10\n",
            "47/47 [==============================] - 8s 164ms/step - loss: 0.2120 - accuracy: 0.9333 - val_loss: 0.6600 - val_accuracy: 0.7240\n",
            "Epoch 10/10\n",
            "47/47 [==============================] - 6s 117ms/step - loss: 0.1407 - accuracy: 0.9553 - val_loss: 0.8041 - val_accuracy: 0.7260\n"
          ]
        }
      ]
    },
    {
      "cell_type": "code",
      "source": [
        "pd.DataFrame(history_1.history).plot(xlabel=\"epochs\", ylabel=\"loss\",title=\"History ins_model\", xlim=(0,10))"
      ],
      "metadata": {
        "colab": {
          "base_uri": "https://localhost:8080/",
          "height": 489
        },
        "id": "H0LL0Onbnpkk",
        "outputId": "9c1adb98-e5e4-4dd7-cf71-b1848d82c107"
      },
      "execution_count": null,
      "outputs": [
        {
          "output_type": "execute_result",
          "data": {
            "text/plain": [
              "<Axes: title={'center': 'History ins_model'}, xlabel='epochs', ylabel='loss'>"
            ]
          },
          "metadata": {},
          "execution_count": 18
        },
        {
          "output_type": "display_data",
          "data": {
            "text/plain": [
              "<Figure size 640x480 with 1 Axes>"
            ],
            "image/png": "[encoded data removed]"
          },
          "metadata": {}
        }
      ]
    },
    {
      "cell_type": "code",
      "source": [],
      "metadata": {
        "id": "HLOd1TKHq7jB"
      },
      "execution_count": null,
      "outputs": []
    }
  ]
}