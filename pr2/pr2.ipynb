{
 "cells": [
  {
   "cell_type": "code",
   "execution_count": 147,
   "id": "9d4929bb",
   "metadata": {},
   "outputs": [],
   "source": [
    "import numpy as np\n",
    "import pandas as pd\n",
    "import matplotlib.pyplot as plt\n",
    "from sklearn.model_selection import train_test_split\n",
    "from sklearn.linear_model import LogisticRegression\n",
    "from sklearn import metrics\n",
    "import warnings\n",
    "warnings.filterwarnings(\"ignore\")\n",
    "from sklearn.ensemble import StackingClassifier\n",
    "from sklearn.ensemble import BaggingClassifier\n",
    "from sklearn.ensemble import AdaBoostClassifier\n",
    "from sklearn.tree import DecisionTreeClassifier\n",
    "from sklearn.svm import SVC\n",
    "from xgboost import XGBClassifier\n",
    "from sklearn.ensemble import RandomForestClassifier"
   ]
  },
  {
   "cell_type": "code",
   "execution_count": 123,
   "id": "08e8f0bf",
   "metadata": {},
   "outputs": [],
   "source": [
    "# Генерація випадкових даних\n",
    "np.random.seed(3)\n",
    "n_samples = 100\n",
    "n_features = 3\n",
    "\n",
    "data = np.random.normal(10000, 99999, size=(n_samples, n_features))\n",
    "columns = ['Feature1', 'Feature2', 'Feature3']\n",
    "df = pd.DataFrame(data, columns=columns)\n",
    "cl = np.random.randint(2, size=(n_samples))\n",
    "df['y'] = cl\n",
    "df.to_csv('випадкові_дані.csv', index=False)"
   ]
  },
  {
   "cell_type": "code",
   "execution_count": 124,
   "id": "6d9c7443",
   "metadata": {},
   "outputs": [
    {
     "data": {
      "text/html": [
       "<div>\n",
       "<style scoped>\n",
       "    .dataframe tbody tr th:only-of-type {\n",
       "        vertical-align: middle;\n",
       "    }\n",
       "\n",
       "    .dataframe tbody tr th {\n",
       "        vertical-align: top;\n",
       "    }\n",
       "\n",
       "    .dataframe thead th {\n",
       "        text-align: right;\n",
       "    }\n",
       "</style>\n",
       "<table border=\"1\" class=\"dataframe\">\n",
       "  <thead>\n",
       "    <tr style=\"text-align: right;\">\n",
       "      <th></th>\n",
       "      <th>Feature1</th>\n",
       "      <th>Feature2</th>\n",
       "      <th>Feature3</th>\n",
       "      <th>y</th>\n",
       "    </tr>\n",
       "  </thead>\n",
       "  <tbody>\n",
       "    <tr>\n",
       "      <th>0</th>\n",
       "      <td>188861.058715</td>\n",
       "      <td>53650.548541</td>\n",
       "      <td>19649.650310</td>\n",
       "      <td>1</td>\n",
       "    </tr>\n",
       "    <tr>\n",
       "      <th>1</th>\n",
       "      <td>-176347.406844</td>\n",
       "      <td>-17738.542863</td>\n",
       "      <td>-25475.543168</td>\n",
       "      <td>0</td>\n",
       "    </tr>\n",
       "    <tr>\n",
       "      <th>2</th>\n",
       "      <td>1725.934593</td>\n",
       "      <td>-52699.440682</td>\n",
       "      <td>5618.226921</td>\n",
       "      <td>0</td>\n",
       "    </tr>\n",
       "    <tr>\n",
       "      <th>3</th>\n",
       "      <td>-37721.325818</td>\n",
       "      <td>-121385.161472</td>\n",
       "      <td>98461.353428</td>\n",
       "      <td>0</td>\n",
       "    </tr>\n",
       "    <tr>\n",
       "      <th>4</th>\n",
       "      <td>98130.922903</td>\n",
       "      <td>180955.596792</td>\n",
       "      <td>15003.314184</td>\n",
       "      <td>0</td>\n",
       "    </tr>\n",
       "    <tr>\n",
       "      <th>...</th>\n",
       "      <td>...</td>\n",
       "      <td>...</td>\n",
       "      <td>...</td>\n",
       "      <td>...</td>\n",
       "    </tr>\n",
       "    <tr>\n",
       "      <th>95</th>\n",
       "      <td>241583.543866</td>\n",
       "      <td>-10828.133525</td>\n",
       "      <td>8502.696391</td>\n",
       "      <td>1</td>\n",
       "    </tr>\n",
       "    <tr>\n",
       "      <th>96</th>\n",
       "      <td>38755.477479</td>\n",
       "      <td>136407.310952</td>\n",
       "      <td>199688.198679</td>\n",
       "      <td>0</td>\n",
       "    </tr>\n",
       "    <tr>\n",
       "      <th>97</th>\n",
       "      <td>-110579.073278</td>\n",
       "      <td>-51510.241333</td>\n",
       "      <td>-96214.550187</td>\n",
       "      <td>0</td>\n",
       "    </tr>\n",
       "    <tr>\n",
       "      <th>98</th>\n",
       "      <td>-101277.002263</td>\n",
       "      <td>-153927.985435</td>\n",
       "      <td>46279.985818</td>\n",
       "      <td>0</td>\n",
       "    </tr>\n",
       "    <tr>\n",
       "      <th>99</th>\n",
       "      <td>-105902.487466</td>\n",
       "      <td>160324.692009</td>\n",
       "      <td>100830.963315</td>\n",
       "      <td>1</td>\n",
       "    </tr>\n",
       "  </tbody>\n",
       "</table>\n",
       "<p>100 rows × 4 columns</p>\n",
       "</div>"
      ],
      "text/plain": [
       "         Feature1       Feature2       Feature3  y\n",
       "0   188861.058715   53650.548541   19649.650310  1\n",
       "1  -176347.406844  -17738.542863  -25475.543168  0\n",
       "2     1725.934593  -52699.440682    5618.226921  0\n",
       "3   -37721.325818 -121385.161472   98461.353428  0\n",
       "4    98130.922903  180955.596792   15003.314184  0\n",
       "..            ...            ...            ... ..\n",
       "95  241583.543866  -10828.133525    8502.696391  1\n",
       "96   38755.477479  136407.310952  199688.198679  0\n",
       "97 -110579.073278  -51510.241333  -96214.550187  0\n",
       "98 -101277.002263 -153927.985435   46279.985818  0\n",
       "99 -105902.487466  160324.692009  100830.963315  1\n",
       "\n",
       "[100 rows x 4 columns]"
      ]
     },
     "execution_count": 124,
     "metadata": {},
     "output_type": "execute_result"
    }
   ],
   "source": [
    "data = pd.read_csv('випадкові_дані.csv')\n",
    "data"
   ]
  },
  {
   "cell_type": "code",
   "execution_count": 125,
   "id": "ee5d3211",
   "metadata": {},
   "outputs": [
    {
     "name": "stdout",
     "output_type": "stream",
     "text": [
      "<class 'pandas.core.frame.DataFrame'>\n",
      "RangeIndex: 100 entries, 0 to 99\n",
      "Data columns (total 4 columns):\n",
      " #   Column    Non-Null Count  Dtype  \n",
      "---  ------    --------------  -----  \n",
      " 0   Feature1  100 non-null    float64\n",
      " 1   Feature2  100 non-null    float64\n",
      " 2   Feature3  100 non-null    float64\n",
      " 3   y         100 non-null    int64  \n",
      "dtypes: float64(3), int64(1)\n",
      "memory usage: 3.2 KB\n"
     ]
    }
   ],
   "source": [
    "data.info()"
   ]
  },
  {
   "cell_type": "code",
   "execution_count": 126,
   "id": "5df23518",
   "metadata": {},
   "outputs": [
    {
     "data": {
      "text/html": [
       "<div>\n",
       "<style scoped>\n",
       "    .dataframe tbody tr th:only-of-type {\n",
       "        vertical-align: middle;\n",
       "    }\n",
       "\n",
       "    .dataframe tbody tr th {\n",
       "        vertical-align: top;\n",
       "    }\n",
       "\n",
       "    .dataframe thead th {\n",
       "        text-align: right;\n",
       "    }\n",
       "</style>\n",
       "<table border=\"1\" class=\"dataframe\">\n",
       "  <thead>\n",
       "    <tr style=\"text-align: right;\">\n",
       "      <th></th>\n",
       "      <th>Feature1</th>\n",
       "      <th>Feature2</th>\n",
       "      <th>Feature3</th>\n",
       "      <th>y</th>\n",
       "    </tr>\n",
       "  </thead>\n",
       "  <tbody>\n",
       "    <tr>\n",
       "      <th>count</th>\n",
       "      <td>100.000000</td>\n",
       "      <td>100.000000</td>\n",
       "      <td>100.000000</td>\n",
       "      <td>100.000000</td>\n",
       "    </tr>\n",
       "    <tr>\n",
       "      <th>mean</th>\n",
       "      <td>19153.318957</td>\n",
       "      <td>8171.576846</td>\n",
       "      <td>17213.246288</td>\n",
       "      <td>0.460000</td>\n",
       "    </tr>\n",
       "    <tr>\n",
       "      <th>std</th>\n",
       "      <td>99248.500014</td>\n",
       "      <td>109951.483040</td>\n",
       "      <td>98298.612067</td>\n",
       "      <td>0.500908</td>\n",
       "    </tr>\n",
       "    <tr>\n",
       "      <th>min</th>\n",
       "      <td>-214823.528500</td>\n",
       "      <td>-281570.859442</td>\n",
       "      <td>-231905.898235</td>\n",
       "      <td>0.000000</td>\n",
       "    </tr>\n",
       "    <tr>\n",
       "      <th>25%</th>\n",
       "      <td>-48920.957723</td>\n",
       "      <td>-62694.671812</td>\n",
       "      <td>-50958.385744</td>\n",
       "      <td>0.000000</td>\n",
       "    </tr>\n",
       "    <tr>\n",
       "      <th>50%</th>\n",
       "      <td>-273.234972</td>\n",
       "      <td>-151.572692</td>\n",
       "      <td>17759.181517</td>\n",
       "      <td>0.000000</td>\n",
       "    </tr>\n",
       "    <tr>\n",
       "      <th>75%</th>\n",
       "      <td>77692.343055</td>\n",
       "      <td>79440.325572</td>\n",
       "      <td>94724.632037</td>\n",
       "      <td>1.000000</td>\n",
       "    </tr>\n",
       "    <tr>\n",
       "      <th>max</th>\n",
       "      <td>291185.025622</td>\n",
       "      <td>255756.305041</td>\n",
       "      <td>277608.570653</td>\n",
       "      <td>1.000000</td>\n",
       "    </tr>\n",
       "  </tbody>\n",
       "</table>\n",
       "</div>"
      ],
      "text/plain": [
       "            Feature1       Feature2       Feature3           y\n",
       "count     100.000000     100.000000     100.000000  100.000000\n",
       "mean    19153.318957    8171.576846   17213.246288    0.460000\n",
       "std     99248.500014  109951.483040   98298.612067    0.500908\n",
       "min   -214823.528500 -281570.859442 -231905.898235    0.000000\n",
       "25%    -48920.957723  -62694.671812  -50958.385744    0.000000\n",
       "50%      -273.234972    -151.572692   17759.181517    0.000000\n",
       "75%     77692.343055   79440.325572   94724.632037    1.000000\n",
       "max    291185.025622  255756.305041  277608.570653    1.000000"
      ]
     },
     "execution_count": 126,
     "metadata": {},
     "output_type": "execute_result"
    }
   ],
   "source": [
    "data.describe()"
   ]
  },
  {
   "cell_type": "code",
   "execution_count": 128,
   "id": "7c2806a6",
   "metadata": {},
   "outputs": [],
   "source": [
    "X = data.drop('y', axis=1)\n",
    "y = data['y']"
   ]
  },
  {
   "cell_type": "code",
   "execution_count": 129,
   "id": "8f4c28c4",
   "metadata": {},
   "outputs": [],
   "source": [
    "X_train, X_test, y_train, y_test = train_test_split(X, y, test_size=0.3, random_state=42)"
   ]
  },
  {
   "cell_type": "code",
   "execution_count": 130,
   "id": "1c4e536e",
   "metadata": {},
   "outputs": [
    {
     "data": {
      "text/plain": [
       "LogisticRegression()"
      ]
     },
     "execution_count": 130,
     "metadata": {},
     "output_type": "execute_result"
    }
   ],
   "source": [
    "log_regression = LogisticRegression()\n",
    "log_regression.fit(X_train, y_train)"
   ]
  },
  {
   "cell_type": "code",
   "execution_count": 131,
   "id": "e6329e96",
   "metadata": {},
   "outputs": [],
   "source": [
    "y_pred = log_regression.predict(X_test)"
   ]
  },
  {
   "cell_type": "code",
   "execution_count": 133,
   "id": "f973e2cc",
   "metadata": {},
   "outputs": [
    {
     "name": "stdout",
     "output_type": "stream",
     "text": [
      "Accuracy: 0.43333333333333335\n",
      "Precision:  0.46153846153846156\n",
      "Recall:  0.375\n",
      "F1:  [0.4516129 0.4137931]\n"
     ]
    }
   ],
   "source": [
    "print(\"Accuracy:\", metrics.accuracy_score(y_test, y_pred)) #точність класифікованих прикладів в загальній кількості прикладів\n",
    "print(\"Precision: \", metrics.precision_score(y_test, y_pred)) #точність класифікованих позитивні приклади\n",
    "print(\"Recall: \", metrics.recall_score(y_test, y_pred)) #повнота, наскільки ефективно модель виявляє всі позитивні приклади\n",
    "print(\"F1: \", metrics.f1_score(y_test, y_pred, average = None)) #оцінка, середнє гармонічне точності та повноти"
   ]
  },
  {
   "cell_type": "code",
   "execution_count": 132,
   "id": "d3456788",
   "metadata": {},
   "outputs": [
    {
     "data": {
      "text/plain": [
       "array([[ 7,  7],\n",
       "       [10,  6]], dtype=int64)"
      ]
     },
     "execution_count": 132,
     "metadata": {},
     "output_type": "execute_result"
    }
   ],
   "source": [
    "cnf_matrix = metrics.confusion_matrix(y_test, y_pred)\n",
    "cnf_matrix"
   ]
  },
  {
   "cell_type": "code",
   "execution_count": 137,
   "id": "a37ae8cb",
   "metadata": {},
   "outputs": [
    {
     "name": "stdout",
     "output_type": "stream",
     "text": [
      "              precision    recall  f1-score   support\n",
      "\n",
      "           0       0.41      0.50      0.45        14\n",
      "           1       0.46      0.38      0.41        16\n",
      "\n",
      "    accuracy                           0.43        30\n",
      "   macro avg       0.44      0.44      0.43        30\n",
      "weighted avg       0.44      0.43      0.43        30\n",
      "\n"
     ]
    }
   ],
   "source": [
    "class_report = classification_report(y_test, y_pred)\n",
    "print(class_report)"
   ]
  },
  {
   "cell_type": "code",
   "execution_count": 134,
   "id": "9d45d14e",
   "metadata": {},
   "outputs": [
    {
     "data": {
      "image/png": "[encoded data removed]",
      "text/plain": [
       "<Figure size 432x288 with 1 Axes>"
      ]
     },
     "metadata": {
      "needs_background": "light"
     },
     "output_type": "display_data"
    }
   ],
   "source": [
    "y_pred_proba = log_regression.predict_proba(X_test)[::,1]\n",
    "fpr, tpr, _ = metrics.roc_curve(y_test,  y_pred_proba)\n",
    "auc = metrics.roc_auc_score(y_test, y_pred_proba) #AUC-ROC крива - це метрика для оцінки якості моделі класифікації, яка дозволяє визначити, наскільки добре модель розділяє два класи (позитивний і негативний) за допомогою різних порогових значень. Ідеальна модель має AUC рівний 1, а модель, яка робить випадковий вибір, має AUC приблизно 0.5.\n",
    "plt.plot(fpr, tpr, label=\"auc=\" + str(auc))\n",
    "plt.legend(loc=4)\n",
    "plt.show()"
   ]
  },
  {
   "cell_type": "code",
   "execution_count": 135,
   "id": "4e82146e",
   "metadata": {},
   "outputs": [
    {
     "data": {
      "image/png": "[encoded data removed]",
      "text/plain": [
       "<Figure size 432x288 with 1 Axes>"
      ]
     },
     "metadata": {
      "needs_background": "light"
     },
     "output_type": "display_data"
    }
   ],
   "source": [
    "a_category = X_test[y_test == 1]\n",
    "r_category = X_test[y_test == 0]\n",
    "\n",
    "#plot for \"approved\" credits\n",
    "plt.scatter(a_category.iloc[:, 0], a_category.iloc[:, 1], label='Approved credits', c='r')\n",
    "\n",
    "#plot for \"rejected\" credits\n",
    "plt.scatter(r_category.iloc[:, 0], r_category.iloc[:, 1], label='Rejected credits', c='g')\n",
    "\n",
    "plt.title('Credit approval')\n",
    "plt.legend(loc='best')\n",
    "plt.show()"
   ]
  },
  {
   "cell_type": "markdown",
   "id": "740fa5fb",
   "metadata": {},
   "source": [
    "так я логіснична можель показала не дуже якісні результати, тому спробуємо інший метод"
   ]
  },
  {
   "cell_type": "code",
   "execution_count": 142,
   "id": "7cf7dcff",
   "metadata": {},
   "outputs": [
    {
     "name": "stdout",
     "output_type": "stream",
     "text": [
      "Accuracy of Bagging Classifier: 0.43333333333333335\n"
     ]
    }
   ],
   "source": [
    "# BaggingClassifier\n",
    "base_model = DecisionTreeClassifier()\n",
    "bagging_classifier = BaggingClassifier(base_model)\n",
    "bagging_classifier.fit(X_train, y_train)\n",
    "bagging_predictions = bagging_classifier.predict(X_test)\n",
    "bagging_accuracy = accuracy_score(y_test, bagging_predictions)\n",
    "print(\"Accuracy of Bagging Classifier:\", bagging_accuracy)"
   ]
  },
  {
   "cell_type": "code",
   "execution_count": 143,
   "id": "5b57274f",
   "metadata": {},
   "outputs": [
    {
     "name": "stdout",
     "output_type": "stream",
     "text": [
      "Accuracy of XGBClassifier: 0.4\n"
     ]
    }
   ],
   "source": [
    "# XGBClassifier\n",
    "xgb_classifier = XGBClassifier(booster='gbtree')\n",
    "xgb_classifier.fit(X_train, y_train)\n",
    "xgb_predictions = xgb_classifier.predict(X_test)\n",
    "xgb_accuracy = accuracy_score(y_test, xgb_predictions)\n",
    "print(\"Accuracy of XGBClassifier:\", xgb_accuracy)"
   ]
  },
  {
   "cell_type": "code",
   "execution_count": 144,
   "id": "b94335a7",
   "metadata": {},
   "outputs": [
    {
     "name": "stdout",
     "output_type": "stream",
     "text": [
      "Accuracy of AdaBoost Classifier: 0.43333333333333335\n"
     ]
    }
   ],
   "source": [
    "# AdaBoostClassifier\n",
    "base_model = LogisticRegression()\n",
    "adaboost_classifier = AdaBoostClassifier(base_model)\n",
    "adaboost_classifier.fit(X_train, y_train)\n",
    "adaboost_predictions = adaboost_classifier.predict(X_test)\n",
    "adaboost_accuracy = accuracy_score(y_test, adaboost_predictions)\n",
    "print(\"Accuracy of AdaBoost Classifier:\", adaboost_accuracy)"
   ]
  },
  {
   "cell_type": "code",
   "execution_count": 145,
   "id": "fcd1e248",
   "metadata": {},
   "outputs": [
    {
     "name": "stdout",
     "output_type": "stream",
     "text": [
      "Accuracy of Stacking Classifier: 0.5666666666666667\n"
     ]
    }
   ],
   "source": [
    "# Stacking Classifier\n",
    "base_models = [\n",
    "    ('logistic_regression', LogisticRegression()),\n",
    "    ('decision_tree', DecisionTreeClassifier())\n",
    "]\n",
    "final_model = SVC()\n",
    "stacking_classifier = StackingClassifier(estimators=base_models, final_estimator=final_model)\n",
    "stacking_classifier.fit(X_train, y_train)\n",
    "stacking_predictions = stacking_classifier.predict(X_test)\n",
    "stacking_accuracy = accuracy_score(y_test, stacking_predictions)\n",
    "print(\"Accuracy of Stacking Classifier:\", stacking_accuracy)"
   ]
  },
  {
   "cell_type": "code",
   "execution_count": 148,
   "id": "0554fe5f",
   "metadata": {},
   "outputs": [
    {
     "name": "stdout",
     "output_type": "stream",
     "text": [
      "Accuracy of RandomForest Classifier: 0.43333333333333335\n"
     ]
    }
   ],
   "source": [
    "rf_classifier = RandomForestClassifier(n_estimators=100, random_state=42)\n",
    "rf_classifier.fit(X_train, y_train)\n",
    "rf_pred = rf_classifier.predict(X_test)\n",
    "rf_accuracy = accuracy_score(y_test, y_pred)\n",
    "print(\"Accuracy of RandomForest Classifier:\", rf_accuracy)"
   ]
  },
  {
   "cell_type": "markdown",
   "id": "28e474d9",
   "metadata": {},
   "source": [
    "#### у висновку, з цим набором даних найбільшу точність алгоритм опорних векторів"
   ]
  }
 ],
 "metadata": {
  "kernelspec": {
   "display_name": "Python 3 (ipykernel)",
   "language": "python",
   "name": "python3"
  },
  "language_info": {
   "codemirror_mode": {
    "name": "ipython",
    "version": 3
   },
   "file_extension": ".py",
   "mimetype": "text/x-python",
   "name": "python",
   "nbconvert_exporter": "python",
   "pygments_lexer": "ipython3",
   "version": "3.9.7"
  }
 },
 "nbformat": 4,
 "nbformat_minor": 5
}
